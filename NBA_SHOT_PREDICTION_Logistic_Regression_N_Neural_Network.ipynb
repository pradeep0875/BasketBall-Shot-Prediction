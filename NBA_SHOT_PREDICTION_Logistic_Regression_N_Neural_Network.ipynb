{
  "nbformat": 4,
  "nbformat_minor": 0,
  "metadata": {
    "colab": {
      "provenance": [],
      "gpuType": "T4"
    },
    "kernelspec": {
      "name": "python3",
      "display_name": "Python 3"
    },
    "language_info": {
      "name": "python"
    },
    "accelerator": "GPU"
  },
  "cells": [
    {
      "cell_type": "code",
      "execution_count": null,
      "metadata": {
        "id": "ljiHgOhe8iLW"
      },
      "outputs": [],
      "source": [
        "from sklearn.model_selection import train_test_split\n",
        "from sklearn.metrics import accuracy_score, confusion_matrix, classification_report\n",
        "from sklearn.svm import SVC\n",
        "from sklearn.preprocessing import StandardScaler\n",
        "from sklearn.linear_model import LogisticRegression\n",
        "\n",
        "from keras.models import Sequential\n",
        "from keras.layers import Dense, Dropout\n",
        "from keras.regularizers import l2\n",
        "\n",
        "import pandas as pd\n",
        "import numpy as np\n",
        "import seaborn as sns\n",
        "import matplotlib.pyplot as plt\n",
        "%matplotlib inline"
      ]
    },
    {
      "cell_type": "code",
      "source": [
        "from google.colab import drive\n",
        "drive.mount('/content/drive')"
      ],
      "metadata": {
        "colab": {
          "base_uri": "https://localhost:8080/"
        },
        "id": "h68s7AGu80Kc",
        "outputId": "b6863008-5770-4e84-c8c0-7af57884539b"
      },
      "execution_count": null,
      "outputs": [
        {
          "output_type": "stream",
          "name": "stdout",
          "text": [
            "Mounted at /content/drive\n"
          ]
        }
      ]
    },
    {
      "cell_type": "code",
      "source": [
        "nba = pd.read_csv(\"/content/drive/MyDrive/Projects/shot_logs.csv\")\n",
        "df = nba.copy()\n",
        "df.head()"
      ],
      "metadata": {
        "id": "ddPGurxw80w9",
        "colab": {
          "base_uri": "https://localhost:8080/",
          "height": 602
        },
        "outputId": "ea2ec7f4-72c6-4cc9-a859-5216bf0ab75c"
      },
      "execution_count": null,
      "outputs": [
        {
          "output_type": "execute_result",
          "data": {
            "text/plain": [
              "    GAME_ID                   MATCHUP LOCATION  W  FINAL_MARGIN  SHOT_NUMBER  \\\n",
              "0  21400899  MAR 04, 2015 - CHA @ BKN        A  W            24            1   \n",
              "1  21400899  MAR 04, 2015 - CHA @ BKN        A  W            24            2   \n",
              "2  21400899  MAR 04, 2015 - CHA @ BKN        A  W            24            3   \n",
              "3  21400899  MAR 04, 2015 - CHA @ BKN        A  W            24            4   \n",
              "4  21400899  MAR 04, 2015 - CHA @ BKN        A  W            24            5   \n",
              "\n",
              "   PERIOD GAME_CLOCK  SHOT_CLOCK  DRIBBLES  ...  SHOT_DIST  PTS_TYPE  \\\n",
              "0       1       1:09        10.8         2  ...        7.7         2   \n",
              "1       1       0:14         3.4         0  ...       28.2         3   \n",
              "2       1       0:00         NaN         3  ...       10.1         2   \n",
              "3       2      11:47        10.3         2  ...       17.2         2   \n",
              "4       2      10:34        10.9         2  ...        3.7         2   \n",
              "\n",
              "   SHOT_RESULT   CLOSEST_DEFENDER CLOSEST_DEFENDER_PLAYER_ID  CLOSE_DEF_DIST  \\\n",
              "0         made     Anderson, Alan                     101187             1.3   \n",
              "1       missed  Bogdanovic, Bojan                     202711             6.1   \n",
              "2       missed  Bogdanovic, Bojan                     202711             0.9   \n",
              "3       missed      Brown, Markel                     203900             3.4   \n",
              "4       missed    Young, Thaddeus                     201152             1.1   \n",
              "\n",
              "   FGM  PTS    player_name player_id  \n",
              "0    1    2  brian roberts    203148  \n",
              "1    0    0  brian roberts    203148  \n",
              "2    0    0  brian roberts    203148  \n",
              "3    0    0  brian roberts    203148  \n",
              "4    0    0  brian roberts    203148  \n",
              "\n",
              "[5 rows x 21 columns]"
            ],
            "text/html": [
              "\n",
              "  <div id=\"df-ae05301c-2469-4522-bfee-9b15bef400f6\" class=\"colab-df-container\">\n",
              "    <div>\n",
              "<style scoped>\n",
              "    .dataframe tbody tr th:only-of-type {\n",
              "        vertical-align: middle;\n",
              "    }\n",
              "\n",
              "    .dataframe tbody tr th {\n",
              "        vertical-align: top;\n",
              "    }\n",
              "\n",
              "    .dataframe thead th {\n",
              "        text-align: right;\n",
              "    }\n",
              "</style>\n",
              "<table border=\"1\" class=\"dataframe\">\n",
              "  <thead>\n",
              "    <tr style=\"text-align: right;\">\n",
              "      <th></th>\n",
              "      <th>GAME_ID</th>\n",
              "      <th>MATCHUP</th>\n",
              "      <th>LOCATION</th>\n",
              "      <th>W</th>\n",
              "      <th>FINAL_MARGIN</th>\n",
              "      <th>SHOT_NUMBER</th>\n",
              "      <th>PERIOD</th>\n",
              "      <th>GAME_CLOCK</th>\n",
              "      <th>SHOT_CLOCK</th>\n",
              "      <th>DRIBBLES</th>\n",
              "      <th>...</th>\n",
              "      <th>SHOT_DIST</th>\n",
              "      <th>PTS_TYPE</th>\n",
              "      <th>SHOT_RESULT</th>\n",
              "      <th>CLOSEST_DEFENDER</th>\n",
              "      <th>CLOSEST_DEFENDER_PLAYER_ID</th>\n",
              "      <th>CLOSE_DEF_DIST</th>\n",
              "      <th>FGM</th>\n",
              "      <th>PTS</th>\n",
              "      <th>player_name</th>\n",
              "      <th>player_id</th>\n",
              "    </tr>\n",
              "  </thead>\n",
              "  <tbody>\n",
              "    <tr>\n",
              "      <th>0</th>\n",
              "      <td>21400899</td>\n",
              "      <td>MAR 04, 2015 - CHA @ BKN</td>\n",
              "      <td>A</td>\n",
              "      <td>W</td>\n",
              "      <td>24</td>\n",
              "      <td>1</td>\n",
              "      <td>1</td>\n",
              "      <td>1:09</td>\n",
              "      <td>10.8</td>\n",
              "      <td>2</td>\n",
              "      <td>...</td>\n",
              "      <td>7.7</td>\n",
              "      <td>2</td>\n",
              "      <td>made</td>\n",
              "      <td>Anderson, Alan</td>\n",
              "      <td>101187</td>\n",
              "      <td>1.3</td>\n",
              "      <td>1</td>\n",
              "      <td>2</td>\n",
              "      <td>brian roberts</td>\n",
              "      <td>203148</td>\n",
              "    </tr>\n",
              "    <tr>\n",
              "      <th>1</th>\n",
              "      <td>21400899</td>\n",
              "      <td>MAR 04, 2015 - CHA @ BKN</td>\n",
              "      <td>A</td>\n",
              "      <td>W</td>\n",
              "      <td>24</td>\n",
              "      <td>2</td>\n",
              "      <td>1</td>\n",
              "      <td>0:14</td>\n",
              "      <td>3.4</td>\n",
              "      <td>0</td>\n",
              "      <td>...</td>\n",
              "      <td>28.2</td>\n",
              "      <td>3</td>\n",
              "      <td>missed</td>\n",
              "      <td>Bogdanovic, Bojan</td>\n",
              "      <td>202711</td>\n",
              "      <td>6.1</td>\n",
              "      <td>0</td>\n",
              "      <td>0</td>\n",
              "      <td>brian roberts</td>\n",
              "      <td>203148</td>\n",
              "    </tr>\n",
              "    <tr>\n",
              "      <th>2</th>\n",
              "      <td>21400899</td>\n",
              "      <td>MAR 04, 2015 - CHA @ BKN</td>\n",
              "      <td>A</td>\n",
              "      <td>W</td>\n",
              "      <td>24</td>\n",
              "      <td>3</td>\n",
              "      <td>1</td>\n",
              "      <td>0:00</td>\n",
              "      <td>NaN</td>\n",
              "      <td>3</td>\n",
              "      <td>...</td>\n",
              "      <td>10.1</td>\n",
              "      <td>2</td>\n",
              "      <td>missed</td>\n",
              "      <td>Bogdanovic, Bojan</td>\n",
              "      <td>202711</td>\n",
              "      <td>0.9</td>\n",
              "      <td>0</td>\n",
              "      <td>0</td>\n",
              "      <td>brian roberts</td>\n",
              "      <td>203148</td>\n",
              "    </tr>\n",
              "    <tr>\n",
              "      <th>3</th>\n",
              "      <td>21400899</td>\n",
              "      <td>MAR 04, 2015 - CHA @ BKN</td>\n",
              "      <td>A</td>\n",
              "      <td>W</td>\n",
              "      <td>24</td>\n",
              "      <td>4</td>\n",
              "      <td>2</td>\n",
              "      <td>11:47</td>\n",
              "      <td>10.3</td>\n",
              "      <td>2</td>\n",
              "      <td>...</td>\n",
              "      <td>17.2</td>\n",
              "      <td>2</td>\n",
              "      <td>missed</td>\n",
              "      <td>Brown, Markel</td>\n",
              "      <td>203900</td>\n",
              "      <td>3.4</td>\n",
              "      <td>0</td>\n",
              "      <td>0</td>\n",
              "      <td>brian roberts</td>\n",
              "      <td>203148</td>\n",
              "    </tr>\n",
              "    <tr>\n",
              "      <th>4</th>\n",
              "      <td>21400899</td>\n",
              "      <td>MAR 04, 2015 - CHA @ BKN</td>\n",
              "      <td>A</td>\n",
              "      <td>W</td>\n",
              "      <td>24</td>\n",
              "      <td>5</td>\n",
              "      <td>2</td>\n",
              "      <td>10:34</td>\n",
              "      <td>10.9</td>\n",
              "      <td>2</td>\n",
              "      <td>...</td>\n",
              "      <td>3.7</td>\n",
              "      <td>2</td>\n",
              "      <td>missed</td>\n",
              "      <td>Young, Thaddeus</td>\n",
              "      <td>201152</td>\n",
              "      <td>1.1</td>\n",
              "      <td>0</td>\n",
              "      <td>0</td>\n",
              "      <td>brian roberts</td>\n",
              "      <td>203148</td>\n",
              "    </tr>\n",
              "  </tbody>\n",
              "</table>\n",
              "<p>5 rows × 21 columns</p>\n",
              "</div>\n",
              "    <div class=\"colab-df-buttons\">\n",
              "\n",
              "  <div class=\"colab-df-container\">\n",
              "    <button class=\"colab-df-convert\" onclick=\"convertToInteractive('df-ae05301c-2469-4522-bfee-9b15bef400f6')\"\n",
              "            title=\"Convert this dataframe to an interactive table.\"\n",
              "            style=\"display:none;\">\n",
              "\n",
              "  <svg xmlns=\"http://www.w3.org/2000/svg\" height=\"24px\" viewBox=\"0 -960 960 960\">\n",
              "    <path d=\"M120-120v-720h720v720H120Zm60-500h600v-160H180v160Zm220 220h160v-160H400v160Zm0 220h160v-160H400v160ZM180-400h160v-160H180v160Zm440 0h160v-160H620v160ZM180-180h160v-160H180v160Zm440 0h160v-160H620v160Z\"/>\n",
              "  </svg>\n",
              "    </button>\n",
              "\n",
              "  <style>\n",
              "    .colab-df-container {\n",
              "      display:flex;\n",
              "      gap: 12px;\n",
              "    }\n",
              "\n",
              "    .colab-df-convert {\n",
              "      background-color: #E8F0FE;\n",
              "      border: none;\n",
              "      border-radius: 50%;\n",
              "      cursor: pointer;\n",
              "      display: none;\n",
              "      fill: #1967D2;\n",
              "      height: 32px;\n",
              "      padding: 0 0 0 0;\n",
              "      width: 32px;\n",
              "    }\n",
              "\n",
              "    .colab-df-convert:hover {\n",
              "      background-color: #E2EBFA;\n",
              "      box-shadow: 0px 1px 2px rgba(60, 64, 67, 0.3), 0px 1px 3px 1px rgba(60, 64, 67, 0.15);\n",
              "      fill: #174EA6;\n",
              "    }\n",
              "\n",
              "    .colab-df-buttons div {\n",
              "      margin-bottom: 4px;\n",
              "    }\n",
              "\n",
              "    [theme=dark] .colab-df-convert {\n",
              "      background-color: #3B4455;\n",
              "      fill: #D2E3FC;\n",
              "    }\n",
              "\n",
              "    [theme=dark] .colab-df-convert:hover {\n",
              "      background-color: #434B5C;\n",
              "      box-shadow: 0px 1px 3px 1px rgba(0, 0, 0, 0.15);\n",
              "      filter: drop-shadow(0px 1px 2px rgba(0, 0, 0, 0.3));\n",
              "      fill: #FFFFFF;\n",
              "    }\n",
              "  </style>\n",
              "\n",
              "    <script>\n",
              "      const buttonEl =\n",
              "        document.querySelector('#df-ae05301c-2469-4522-bfee-9b15bef400f6 button.colab-df-convert');\n",
              "      buttonEl.style.display =\n",
              "        google.colab.kernel.accessAllowed ? 'block' : 'none';\n",
              "\n",
              "      async function convertToInteractive(key) {\n",
              "        const element = document.querySelector('#df-ae05301c-2469-4522-bfee-9b15bef400f6');\n",
              "        const dataTable =\n",
              "          await google.colab.kernel.invokeFunction('convertToInteractive',\n",
              "                                                    [key], {});\n",
              "        if (!dataTable) return;\n",
              "\n",
              "        const docLinkHtml = 'Like what you see? Visit the ' +\n",
              "          '<a target=\"_blank\" href=https://colab.research.google.com/notebooks/data_table.ipynb>data table notebook</a>'\n",
              "          + ' to learn more about interactive tables.';\n",
              "        element.innerHTML = '';\n",
              "        dataTable['output_type'] = 'display_data';\n",
              "        await google.colab.output.renderOutput(dataTable, element);\n",
              "        const docLink = document.createElement('div');\n",
              "        docLink.innerHTML = docLinkHtml;\n",
              "        element.appendChild(docLink);\n",
              "      }\n",
              "    </script>\n",
              "  </div>\n",
              "\n",
              "\n",
              "<div id=\"df-b0667112-7058-477d-bf06-93973dcf1ba0\">\n",
              "  <button class=\"colab-df-quickchart\" onclick=\"quickchart('df-b0667112-7058-477d-bf06-93973dcf1ba0')\"\n",
              "            title=\"Suggest charts\"\n",
              "            style=\"display:none;\">\n",
              "\n",
              "<svg xmlns=\"http://www.w3.org/2000/svg\" height=\"24px\"viewBox=\"0 0 24 24\"\n",
              "     width=\"24px\">\n",
              "    <g>\n",
              "        <path d=\"M19 3H5c-1.1 0-2 .9-2 2v14c0 1.1.9 2 2 2h14c1.1 0 2-.9 2-2V5c0-1.1-.9-2-2-2zM9 17H7v-7h2v7zm4 0h-2V7h2v10zm4 0h-2v-4h2v4z\"/>\n",
              "    </g>\n",
              "</svg>\n",
              "  </button>\n",
              "\n",
              "<style>\n",
              "  .colab-df-quickchart {\n",
              "      --bg-color: #E8F0FE;\n",
              "      --fill-color: #1967D2;\n",
              "      --hover-bg-color: #E2EBFA;\n",
              "      --hover-fill-color: #174EA6;\n",
              "      --disabled-fill-color: #AAA;\n",
              "      --disabled-bg-color: #DDD;\n",
              "  }\n",
              "\n",
              "  [theme=dark] .colab-df-quickchart {\n",
              "      --bg-color: #3B4455;\n",
              "      --fill-color: #D2E3FC;\n",
              "      --hover-bg-color: #434B5C;\n",
              "      --hover-fill-color: #FFFFFF;\n",
              "      --disabled-bg-color: #3B4455;\n",
              "      --disabled-fill-color: #666;\n",
              "  }\n",
              "\n",
              "  .colab-df-quickchart {\n",
              "    background-color: var(--bg-color);\n",
              "    border: none;\n",
              "    border-radius: 50%;\n",
              "    cursor: pointer;\n",
              "    display: none;\n",
              "    fill: var(--fill-color);\n",
              "    height: 32px;\n",
              "    padding: 0;\n",
              "    width: 32px;\n",
              "  }\n",
              "\n",
              "  .colab-df-quickchart:hover {\n",
              "    background-color: var(--hover-bg-color);\n",
              "    box-shadow: 0 1px 2px rgba(60, 64, 67, 0.3), 0 1px 3px 1px rgba(60, 64, 67, 0.15);\n",
              "    fill: var(--button-hover-fill-color);\n",
              "  }\n",
              "\n",
              "  .colab-df-quickchart-complete:disabled,\n",
              "  .colab-df-quickchart-complete:disabled:hover {\n",
              "    background-color: var(--disabled-bg-color);\n",
              "    fill: var(--disabled-fill-color);\n",
              "    box-shadow: none;\n",
              "  }\n",
              "\n",
              "  .colab-df-spinner {\n",
              "    border: 2px solid var(--fill-color);\n",
              "    border-color: transparent;\n",
              "    border-bottom-color: var(--fill-color);\n",
              "    animation:\n",
              "      spin 1s steps(1) infinite;\n",
              "  }\n",
              "\n",
              "  @keyframes spin {\n",
              "    0% {\n",
              "      border-color: transparent;\n",
              "      border-bottom-color: var(--fill-color);\n",
              "      border-left-color: var(--fill-color);\n",
              "    }\n",
              "    20% {\n",
              "      border-color: transparent;\n",
              "      border-left-color: var(--fill-color);\n",
              "      border-top-color: var(--fill-color);\n",
              "    }\n",
              "    30% {\n",
              "      border-color: transparent;\n",
              "      border-left-color: var(--fill-color);\n",
              "      border-top-color: var(--fill-color);\n",
              "      border-right-color: var(--fill-color);\n",
              "    }\n",
              "    40% {\n",
              "      border-color: transparent;\n",
              "      border-right-color: var(--fill-color);\n",
              "      border-top-color: var(--fill-color);\n",
              "    }\n",
              "    60% {\n",
              "      border-color: transparent;\n",
              "      border-right-color: var(--fill-color);\n",
              "    }\n",
              "    80% {\n",
              "      border-color: transparent;\n",
              "      border-right-color: var(--fill-color);\n",
              "      border-bottom-color: var(--fill-color);\n",
              "    }\n",
              "    90% {\n",
              "      border-color: transparent;\n",
              "      border-bottom-color: var(--fill-color);\n",
              "    }\n",
              "  }\n",
              "</style>\n",
              "\n",
              "  <script>\n",
              "    async function quickchart(key) {\n",
              "      const quickchartButtonEl =\n",
              "        document.querySelector('#' + key + ' button');\n",
              "      quickchartButtonEl.disabled = true;  // To prevent multiple clicks.\n",
              "      quickchartButtonEl.classList.add('colab-df-spinner');\n",
              "      try {\n",
              "        const charts = await google.colab.kernel.invokeFunction(\n",
              "            'suggestCharts', [key], {});\n",
              "      } catch (error) {\n",
              "        console.error('Error during call to suggestCharts:', error);\n",
              "      }\n",
              "      quickchartButtonEl.classList.remove('colab-df-spinner');\n",
              "      quickchartButtonEl.classList.add('colab-df-quickchart-complete');\n",
              "    }\n",
              "    (() => {\n",
              "      let quickchartButtonEl =\n",
              "        document.querySelector('#df-b0667112-7058-477d-bf06-93973dcf1ba0 button');\n",
              "      quickchartButtonEl.style.display =\n",
              "        google.colab.kernel.accessAllowed ? 'block' : 'none';\n",
              "    })();\n",
              "  </script>\n",
              "</div>\n",
              "\n",
              "    </div>\n",
              "  </div>\n"
            ],
            "application/vnd.google.colaboratory.intrinsic+json": {
              "type": "dataframe",
              "variable_name": "df"
            }
          },
          "metadata": {},
          "execution_count": 3
        }
      ]
    },
    {
      "cell_type": "code",
      "source": [
        "df.info()"
      ],
      "metadata": {
        "colab": {
          "base_uri": "https://localhost:8080/"
        },
        "id": "2NFdV3mvGcCD",
        "outputId": "91e57125-a541-407a-b5ba-bef5f5828903"
      },
      "execution_count": null,
      "outputs": [
        {
          "output_type": "stream",
          "name": "stdout",
          "text": [
            "<class 'pandas.core.frame.DataFrame'>\n",
            "RangeIndex: 128069 entries, 0 to 128068\n",
            "Data columns (total 21 columns):\n",
            " #   Column                      Non-Null Count   Dtype  \n",
            "---  ------                      --------------   -----  \n",
            " 0   GAME_ID                     128069 non-null  int64  \n",
            " 1   MATCHUP                     128069 non-null  object \n",
            " 2   LOCATION                    128069 non-null  object \n",
            " 3   W                           128069 non-null  object \n",
            " 4   FINAL_MARGIN                128069 non-null  int64  \n",
            " 5   SHOT_NUMBER                 128069 non-null  int64  \n",
            " 6   PERIOD                      128069 non-null  int64  \n",
            " 7   GAME_CLOCK                  128069 non-null  object \n",
            " 8   SHOT_CLOCK                  122502 non-null  float64\n",
            " 9   DRIBBLES                    128069 non-null  int64  \n",
            " 10  TOUCH_TIME                  128069 non-null  float64\n",
            " 11  SHOT_DIST                   128069 non-null  float64\n",
            " 12  PTS_TYPE                    128069 non-null  int64  \n",
            " 13  SHOT_RESULT                 128069 non-null  object \n",
            " 14  CLOSEST_DEFENDER            128069 non-null  object \n",
            " 15  CLOSEST_DEFENDER_PLAYER_ID  128069 non-null  int64  \n",
            " 16  CLOSE_DEF_DIST              128069 non-null  float64\n",
            " 17  FGM                         128069 non-null  int64  \n",
            " 18  PTS                         128069 non-null  int64  \n",
            " 19  player_name                 128069 non-null  object \n",
            " 20  player_id                   128069 non-null  int64  \n",
            "dtypes: float64(4), int64(10), object(7)\n",
            "memory usage: 20.5+ MB\n"
          ]
        }
      ]
    },
    {
      "cell_type": "code",
      "source": [
        "df.SHOT_CLOCK = df.SHOT_CLOCK.fillna(df.SHOT_CLOCK.mean())"
      ],
      "metadata": {
        "id": "FahttSaX802x"
      },
      "execution_count": null,
      "outputs": []
    },
    {
      "cell_type": "code",
      "source": [
        "len(df.TOUCH_TIME[df.TOUCH_TIME<0])"
      ],
      "metadata": {
        "id": "cAZ2Qt_88-pf",
        "colab": {
          "base_uri": "https://localhost:8080/"
        },
        "outputId": "bfd1a8ea-36c5-4a3a-aa3f-9338da321b6f"
      },
      "execution_count": null,
      "outputs": [
        {
          "output_type": "execute_result",
          "data": {
            "text/plain": [
              "312"
            ]
          },
          "metadata": {},
          "execution_count": 6
        }
      ]
    },
    {
      "cell_type": "code",
      "source": [
        "df.TOUCH_TIME[df.TOUCH_TIME<0] = df.TOUCH_TIME.mean()"
      ],
      "metadata": {
        "id": "d189hkWW805c",
        "colab": {
          "base_uri": "https://localhost:8080/"
        },
        "outputId": "0a569d1e-76fb-43d2-b0ca-e0183a23dc5e"
      },
      "execution_count": null,
      "outputs": [
        {
          "output_type": "stream",
          "name": "stderr",
          "text": [
            "<ipython-input-7-c1c1002dfccf>:1: SettingWithCopyWarning: \n",
            "A value is trying to be set on a copy of a slice from a DataFrame\n",
            "\n",
            "See the caveats in the documentation: https://pandas.pydata.org/pandas-docs/stable/user_guide/indexing.html#returning-a-view-versus-a-copy\n",
            "  df.TOUCH_TIME[df.TOUCH_TIME<0] = df.TOUCH_TIME.mean()\n"
          ]
        }
      ]
    },
    {
      "cell_type": "code",
      "source": [
        "len(df.TOUCH_TIME[df.TOUCH_TIME<0])"
      ],
      "metadata": {
        "colab": {
          "base_uri": "https://localhost:8080/"
        },
        "id": "jMAbPEgi-8cQ",
        "outputId": "0ce6ad96-01a1-4f99-9131-c96f5f2dba26"
      },
      "execution_count": null,
      "outputs": [
        {
          "output_type": "execute_result",
          "data": {
            "text/plain": [
              "0"
            ]
          },
          "metadata": {},
          "execution_count": 8
        }
      ]
    },
    {
      "cell_type": "code",
      "source": [
        "len(df.TOUCH_TIME[df.TOUCH_TIME>24.0])"
      ],
      "metadata": {
        "id": "22F9B0nA808H",
        "colab": {
          "base_uri": "https://localhost:8080/"
        },
        "outputId": "1f0fda7b-f1de-4631-afff-b8f1798b482a"
      },
      "execution_count": null,
      "outputs": [
        {
          "output_type": "execute_result",
          "data": {
            "text/plain": [
              "4"
            ]
          },
          "metadata": {},
          "execution_count": 9
        }
      ]
    },
    {
      "cell_type": "code",
      "source": [
        "df.TOUCH_TIME[df.TOUCH_TIME>24.0] = 24"
      ],
      "metadata": {
        "id": "DVBuPWJz80_f",
        "colab": {
          "base_uri": "https://localhost:8080/"
        },
        "outputId": "d8ef1adf-6559-40f3-d113-1ed35ec381a7"
      },
      "execution_count": null,
      "outputs": [
        {
          "output_type": "stream",
          "name": "stderr",
          "text": [
            "<ipython-input-10-311d7ed9d614>:1: SettingWithCopyWarning: \n",
            "A value is trying to be set on a copy of a slice from a DataFrame\n",
            "\n",
            "See the caveats in the documentation: https://pandas.pydata.org/pandas-docs/stable/user_guide/indexing.html#returning-a-view-versus-a-copy\n",
            "  df.TOUCH_TIME[df.TOUCH_TIME>24.0] = 24\n"
          ]
        }
      ]
    },
    {
      "cell_type": "code",
      "source": [
        "df.LOCATION = df.LOCATION.map({\"H\":1,\"A\":0})\n",
        "df.W = df.W.map({\"W\":1,\"L\":0})\n",
        "df.PTS_TYPE = df.PTS_TYPE.map({2:0,3:1})\n",
        "df.SHOT_RESULT = df.SHOT_RESULT.map({\"made\":1,\"missed\":0})"
      ],
      "metadata": {
        "id": "lg3U3TWu9IHv"
      },
      "execution_count": null,
      "outputs": []
    },
    {
      "cell_type": "code",
      "source": [
        "df = df.rename(columns={\"LOCATION\":\"HOME_AWAY\",\"PTS_TYPE\":\"3PTS_SHOT\",\"player_name\":\"PLAYER_NAME\",\"player_id\":\"PLAYER_ID\"})"
      ],
      "metadata": {
        "id": "DQyCYFad9Kho"
      },
      "execution_count": null,
      "outputs": []
    },
    {
      "cell_type": "code",
      "source": [
        "df.GAME_CLOCK = df.GAME_CLOCK.apply(lambda x: int(x.split(\":\")[0])*60 + int(x.split(\":\")[1]))"
      ],
      "metadata": {
        "id": "KkBflgtN9Ndp"
      },
      "execution_count": null,
      "outputs": []
    },
    {
      "cell_type": "code",
      "source": [
        "df = df.drop(columns=[\"GAME_ID\",\n",
        "                          \"MATCHUP\",\n",
        "                          \"W\",\n",
        "                          \"PLAYER_NAME\",\n",
        "                          \"SHOT_NUMBER\",\n",
        "                          \"CLOSEST_DEFENDER\",\n",
        "                          \"CLOSEST_DEFENDER_PLAYER_ID\",\n",
        "                          \"FGM\",\n",
        "                          \"PTS\",\n",
        "                          \"PLAYER_ID\"], axis=1)"
      ],
      "metadata": {
        "id": "OuJK4NeP9QAa"
      },
      "execution_count": null,
      "outputs": []
    },
    {
      "cell_type": "code",
      "source": [
        "X1 = df[[\"HOME_AWAY\",\t\"FINAL_MARGIN\",\t\"PERIOD\",\t\"GAME_CLOCK\",\t\"SHOT_CLOCK\",\t\"DRIBBLES\",\t\"TOUCH_TIME\",\t\"SHOT_DIST\", \"3PTS_SHOT\",\t\"CLOSE_DEF_DIST\"]]\n",
        "Y1 = df['SHOT_RESULT']"
      ],
      "metadata": {
        "id": "08wOi5wR9SK8"
      },
      "execution_count": null,
      "outputs": []
    },
    {
      "cell_type": "code",
      "source": [
        "X1_Train, X1_Test, Y1_Train, Y1_Test = train_test_split(X1, Y1, test_size=0.2)"
      ],
      "metadata": {
        "id": "eIppDF4J9Uza"
      },
      "execution_count": null,
      "outputs": []
    },
    {
      "cell_type": "code",
      "source": [
        "scaler = StandardScaler()\n",
        "X1_Train_scaled = scaler.fit_transform(X1_Train)\n",
        "X1_Test_scaled = scaler.transform(X1_Test)"
      ],
      "metadata": {
        "id": "M3BeD8fu9Wu4"
      },
      "execution_count": null,
      "outputs": []
    },
    {
      "cell_type": "code",
      "source": [
        "# LOGISTIC REGRESSION WITHOUT REGULARIZATION ON ALL FEATURES"
      ],
      "metadata": {
        "id": "e9aB8qd1_qOm"
      },
      "execution_count": null,
      "outputs": []
    },
    {
      "cell_type": "code",
      "source": [
        "%%time\n",
        "Log_Reg1 = LogisticRegression()\n",
        "Log_Reg1.fit(X1_Train_scaled, Y1_Train)"
      ],
      "metadata": {
        "id": "Ifm6L_5o9d9X"
      },
      "execution_count": null,
      "outputs": []
    },
    {
      "cell_type": "code",
      "source": [
        "Y1_Pred = Log_Reg1.predict(X1_Test_scaled)"
      ],
      "metadata": {
        "id": "y7Co9xHU9vvD"
      },
      "execution_count": null,
      "outputs": []
    },
    {
      "cell_type": "code",
      "source": [
        "Accuracy = accuracy_score(Y1_Test, Y1_Pred)\n",
        "Confusion_Matrix = confusion_matrix(Y1_Test, Y1_Pred)\n",
        "Classification_Report = classification_report(Y1_Test, Y1_Pred)\n",
        "\n",
        "print(f'Accuracy: {Accuracy}')\n",
        "print('Confusion Matrix:')\n",
        "print(Confusion_Matrix)\n",
        "print('Classification Report:')\n",
        "print(Classification_Report)"
      ],
      "metadata": {
        "id": "mr0AKPbD9xTk"
      },
      "execution_count": null,
      "outputs": []
    },
    {
      "cell_type": "code",
      "source": [
        "# LOGISTIC REGRESSION WITHOUT REGULARIZATION ON TOP 5 FEATURES OF XGBOOST PLOT IMPORTANCE"
      ],
      "metadata": {
        "id": "S2V5D5hUArjb"
      },
      "execution_count": null,
      "outputs": []
    },
    {
      "cell_type": "code",
      "source": [
        "X2 = df[[\"FINAL_MARGIN\",\t\"SHOT_CLOCK\",\t\"TOUCH_TIME\",\t\"SHOT_DIST\",\t\"CLOSE_DEF_DIST\"]]\n",
        "Y2 = df['SHOT_RESULT']"
      ],
      "metadata": {
        "id": "t-xiryeF94cH"
      },
      "execution_count": null,
      "outputs": []
    },
    {
      "cell_type": "code",
      "source": [
        "X2_Train, X2_Test, Y2_Train, Y2_Test = train_test_split(X2, Y2, test_size=0.2)"
      ],
      "metadata": {
        "id": "JLwIdgCn944t"
      },
      "execution_count": null,
      "outputs": []
    },
    {
      "cell_type": "code",
      "source": [
        "scaler = StandardScaler()\n",
        "X2_Train_scaled = scaler.fit_transform(X2_Train)\n",
        "X2_Test_scaled = scaler.transform(X2_Test)"
      ],
      "metadata": {
        "id": "az-6pjq996rD"
      },
      "execution_count": null,
      "outputs": []
    },
    {
      "cell_type": "code",
      "source": [
        "%%time\n",
        "Log_Reg2 = LogisticRegression()\n",
        "Log_Reg2.fit(X2_Train_scaled, Y2_Train)"
      ],
      "metadata": {
        "id": "-NForUCQAPdC"
      },
      "execution_count": null,
      "outputs": []
    },
    {
      "cell_type": "code",
      "source": [
        "Y2_Pred = Log_Reg2.predict(X2_Test_scaled)"
      ],
      "metadata": {
        "id": "PxwPsoiTAT-V"
      },
      "execution_count": null,
      "outputs": []
    },
    {
      "cell_type": "code",
      "source": [
        "Accuracy = accuracy_score(Y2_Test, Y2_Pred)\n",
        "Confusion_Matrix = confusion_matrix(Y2_Test, Y2_Pred)\n",
        "Classification_Report = classification_report(Y2_Test, Y2_Pred)\n",
        "\n",
        "print(f'Accuracy: {Accuracy}')\n",
        "print('Confusion Matrix:')\n",
        "print(Confusion_Matrix)\n",
        "print('Classification Report:')\n",
        "print(Classification_Report)"
      ],
      "metadata": {
        "id": "yV5ohQbQAWMi"
      },
      "execution_count": null,
      "outputs": []
    },
    {
      "cell_type": "code",
      "source": [
        "# LOGISTIC REGRESSION WITH L2 REGULARIZATION ON ALL FEATURES"
      ],
      "metadata": {
        "id": "_OXqAqSv94L6"
      },
      "execution_count": null,
      "outputs": []
    },
    {
      "cell_type": "code",
      "source": [
        "%%time\n",
        "Log_Reg1L2 = LogisticRegression(penalty='l2')\n",
        "Log_Reg1L2.fit(X1_Train_scaled, Y1_Train)"
      ],
      "metadata": {
        "id": "bJfsudcbA53x"
      },
      "execution_count": null,
      "outputs": []
    },
    {
      "cell_type": "code",
      "source": [
        "Y1L2_Pred = Log_Reg1L2.predict(X1_Test_scaled)"
      ],
      "metadata": {
        "id": "gADNUph1BUIc"
      },
      "execution_count": null,
      "outputs": []
    },
    {
      "cell_type": "code",
      "source": [
        "Accuracy = accuracy_score(Y1_Test, Y1L2_Pred)\n",
        "Confusion_Matrix = confusion_matrix(Y1_Test, Y1L2_Pred)\n",
        "Classification_Report = classification_report(Y1_Test, Y1L2_Pred)\n",
        "\n",
        "print(f'Accuracy: {Accuracy}')\n",
        "print('Confusion Matrix:')\n",
        "print(Confusion_Matrix)\n",
        "print('Classification Report:')\n",
        "print(Classification_Report)"
      ],
      "metadata": {
        "id": "gIvDqCxUBINv"
      },
      "execution_count": null,
      "outputs": []
    },
    {
      "cell_type": "code",
      "source": [
        "# LOGISTIC REGRESSION WITH L2 REGULARIZATION ON TOP 5 FEATURES OF XGBOOST PLOT IMPORTANCE"
      ],
      "metadata": {
        "id": "AAdlXgX8CeZX"
      },
      "execution_count": null,
      "outputs": []
    },
    {
      "cell_type": "code",
      "source": [
        "%%time\n",
        "Log_Reg2L2 = LogisticRegression(penalty='l2')\n",
        "Log_Reg2L2.fit(X2_Train_scaled, Y1_Train)"
      ],
      "metadata": {
        "id": "h6LmOUDuChHF"
      },
      "execution_count": null,
      "outputs": []
    },
    {
      "cell_type": "code",
      "source": [
        "Y2L2_Pred = Log_Reg2L2.predict(X2_Test_scaled)"
      ],
      "metadata": {
        "id": "dQ_lQUHvCqWM"
      },
      "execution_count": null,
      "outputs": []
    },
    {
      "cell_type": "code",
      "source": [
        "Accuracy = accuracy_score(Y2_Test, Y2L2_Pred)\n",
        "Confusion_Matrix = confusion_matrix(Y2_Test, Y2L2_Pred)\n",
        "Classification_Report = classification_report(Y2_Test, Y2L2_Pred, zero_division=1)\n",
        "\n",
        "print(f'Accuracy: {Accuracy}')\n",
        "print('Confusion Matrix:')\n",
        "print(Confusion_Matrix)\n",
        "print('Classification Report:')\n",
        "print(Classification_Report)"
      ],
      "metadata": {
        "id": "k0BBNnjPCykM"
      },
      "execution_count": null,
      "outputs": []
    },
    {
      "cell_type": "code",
      "source": [
        "# NEURAL NETWORK AHEAD"
      ],
      "metadata": {
        "id": "ccbpU4EJDzzb"
      },
      "execution_count": null,
      "outputs": []
    },
    {
      "cell_type": "code",
      "source": [
        "# NEURAL NETWORK WITHOUT REGULARIZATION"
      ],
      "metadata": {
        "id": "sHkX4Zt6V2JD"
      },
      "execution_count": null,
      "outputs": []
    },
    {
      "cell_type": "code",
      "source": [
        "model1 = Sequential()\n",
        "model1.add(Dense(64, input_dim=X1_Train_scaled.shape[1], activation='relu'))\n",
        "model1.add(Dense(32, activation='relu'))\n",
        "model1.add(Dense(32, activation='relu'))\n",
        "model1.add(Dense(1, activation='sigmoid'))"
      ],
      "metadata": {
        "id": "LfiWCSHUEfde"
      },
      "execution_count": null,
      "outputs": []
    },
    {
      "cell_type": "code",
      "source": [
        "model1.compile(loss='binary_crossentropy', optimizer='adam', metrics=['accuracy'])"
      ],
      "metadata": {
        "id": "_7LHvMTeElr6"
      },
      "execution_count": null,
      "outputs": []
    },
    {
      "cell_type": "code",
      "source": [
        "%%time\n",
        "nn1 = model1.fit(X1_Train_scaled, Y1_Train, epochs=10, batch_size=64, validation_split=0.2)"
      ],
      "metadata": {
        "colab": {
          "base_uri": "https://localhost:8080/"
        },
        "id": "1JP_-z3jEodO",
        "outputId": "c26333b1-7e98-42e4-c0eb-2766c0b94eb5"
      },
      "execution_count": null,
      "outputs": [
        {
          "output_type": "stream",
          "name": "stdout",
          "text": [
            "Epoch 1/10\n",
            "1281/1281 [==============================] - 9s 5ms/step - loss: 0.6565 - accuracy: 0.6097 - val_loss: 0.6530 - val_accuracy: 0.6166\n",
            "Epoch 2/10\n",
            "1281/1281 [==============================] - 6s 5ms/step - loss: 0.6514 - accuracy: 0.6167 - val_loss: 0.6517 - val_accuracy: 0.6174\n",
            "Epoch 3/10\n",
            "1281/1281 [==============================] - 5s 4ms/step - loss: 0.6507 - accuracy: 0.6175 - val_loss: 0.6525 - val_accuracy: 0.6166\n",
            "Epoch 4/10\n",
            "1281/1281 [==============================] - 6s 5ms/step - loss: 0.6500 - accuracy: 0.6183 - val_loss: 0.6521 - val_accuracy: 0.6169\n",
            "Epoch 5/10\n",
            "1281/1281 [==============================] - 6s 5ms/step - loss: 0.6496 - accuracy: 0.6186 - val_loss: 0.6513 - val_accuracy: 0.6177\n",
            "Epoch 6/10\n",
            "1281/1281 [==============================] - 6s 4ms/step - loss: 0.6489 - accuracy: 0.6195 - val_loss: 0.6511 - val_accuracy: 0.6187\n",
            "Epoch 7/10\n",
            "1281/1281 [==============================] - 7s 5ms/step - loss: 0.6482 - accuracy: 0.6199 - val_loss: 0.6514 - val_accuracy: 0.6189\n",
            "Epoch 8/10\n",
            "1281/1281 [==============================] - 5s 4ms/step - loss: 0.6476 - accuracy: 0.6214 - val_loss: 0.6533 - val_accuracy: 0.6193\n",
            "Epoch 9/10\n",
            "1281/1281 [==============================] - 8s 6ms/step - loss: 0.6477 - accuracy: 0.6218 - val_loss: 0.6521 - val_accuracy: 0.6180\n",
            "Epoch 10/10\n",
            "1281/1281 [==============================] - 7s 5ms/step - loss: 0.6472 - accuracy: 0.6216 - val_loss: 0.6527 - val_accuracy: 0.6146\n",
            "CPU times: user 1min 6s, sys: 4.77 s, total: 1min 10s\n",
            "Wall time: 1min 5s\n"
          ]
        }
      ]
    },
    {
      "cell_type": "code",
      "source": [
        "Y1_Pred_prob = model1.predict(X1_Test_scaled)\n",
        "\n",
        "Y1_Pred_classes = (Y1_Pred_prob > 0.5).astype(int)\n",
        "\n",
        "Accuracy = accuracy_score(Y1_Test, Y1_Pred_classes)\n",
        "Confusion_Matrix = confusion_matrix(Y1_Test, Y1_Pred_classes)\n",
        "Classification_Report = classification_report(Y1_Test, Y1_Pred_classes, zero_division=1)\n",
        "\n",
        "print(f'Accuracy: {Accuracy}')\n",
        "print('Confusion Matrix:')\n",
        "print(Confusion_Matrix)\n",
        "print('Classification Report:')\n",
        "print(Classification_Report)"
      ],
      "metadata": {
        "colab": {
          "base_uri": "https://localhost:8080/"
        },
        "id": "-0t_xx39OE_S",
        "outputId": "7ced20f2-83c9-4acd-8a40-1ccfe12718f1"
      },
      "execution_count": null,
      "outputs": [
        {
          "output_type": "stream",
          "name": "stdout",
          "text": [
            "801/801 [==============================] - 2s 2ms/step\n",
            "Accuracy: 0.6173576950105412\n",
            "Confusion Matrix:\n",
            "[[11225  2743]\n",
            " [ 7058  4588]]\n",
            "Classification Report:\n",
            "              precision    recall  f1-score   support\n",
            "\n",
            "           0       0.61      0.80      0.70     13968\n",
            "           1       0.63      0.39      0.48     11646\n",
            "\n",
            "    accuracy                           0.62     25614\n",
            "   macro avg       0.62      0.60      0.59     25614\n",
            "weighted avg       0.62      0.62      0.60     25614\n",
            "\n"
          ]
        }
      ]
    },
    {
      "cell_type": "code",
      "source": [
        "plt.plot(nn1.history['accuracy'], label='Training Accuracy')\n",
        "plt.plot(nn1.history['val_accuracy'], label='Validation Accuracy')\n",
        "plt.xlabel('Epoch')\n",
        "plt.ylabel('Accuracy')\n",
        "plt.legend()\n",
        "plt.show()"
      ],
      "metadata": {
        "colab": {
          "base_uri": "https://localhost:8080/",
          "height": 503
        },
        "id": "MUoMgfFYExN-",
        "outputId": "afb09bc2-2aad-4c01-8b09-5d0cd8243a9a"
      },
      "execution_count": null,
      "outputs": [
        {
          "output_type": "display_data",
          "data": {
            "text/plain": [
              "<Figure size 800x550 with 1 Axes>"
            ],
            "image/png": "[encoded data removed]"
          },
          "metadata": {}
        }
      ]
    },
    {
      "cell_type": "code",
      "source": [
        "# NN WITH L2 REGULARIZATION"
      ],
      "metadata": {
        "id": "cTvhwCuAIeFP"
      },
      "execution_count": null,
      "outputs": []
    },
    {
      "cell_type": "code",
      "source": [
        "model2 = Sequential()\n",
        "model2.add(Dense(64, input_dim=X1_Train_scaled.shape[1], activation='relu', kernel_regularizer=l2(0.01)))\n",
        "model2.add(Dense(32, activation='relu', kernel_regularizer=l2(0.01)))\n",
        "model2.add(Dense(32, activation='relu', kernel_regularizer=l2(0.01)))\n",
        "model2.add(Dense(1, activation='sigmoid'))  # Output layer"
      ],
      "metadata": {
        "id": "X1eRWJxdHbuR"
      },
      "execution_count": null,
      "outputs": []
    },
    {
      "cell_type": "code",
      "source": [
        "model2.compile(loss='binary_crossentropy', optimizer='adam', metrics=['accuracy'])"
      ],
      "metadata": {
        "id": "_GdH362oH9tk"
      },
      "execution_count": null,
      "outputs": []
    },
    {
      "cell_type": "code",
      "source": [
        "%%time\n",
        "nn2 = model2.fit(X1_Train_scaled, Y1_Train, epochs=10, batch_size=64, validation_split=0.2)"
      ],
      "metadata": {
        "colab": {
          "base_uri": "https://localhost:8080/"
        },
        "id": "e4z-DbTaIC1Z",
        "outputId": "27f5fd65-004f-4399-9fa5-9a9ec08ffdaf"
      },
      "execution_count": null,
      "outputs": [
        {
          "output_type": "stream",
          "name": "stdout",
          "text": [
            "Epoch 1/10\n",
            "1281/1281 [==============================] - 7s 5ms/step - loss: 0.7552 - accuracy: 0.6072 - val_loss: 0.6726 - val_accuracy: 0.6135\n",
            "Epoch 2/10\n",
            "1281/1281 [==============================] - 5s 4ms/step - loss: 0.6715 - accuracy: 0.6103 - val_loss: 0.6710 - val_accuracy: 0.6141\n",
            "Epoch 3/10\n",
            "1281/1281 [==============================] - 5s 4ms/step - loss: 0.6700 - accuracy: 0.6105 - val_loss: 0.6726 - val_accuracy: 0.5968\n",
            "Epoch 4/10\n",
            "1281/1281 [==============================] - 6s 5ms/step - loss: 0.6690 - accuracy: 0.6089 - val_loss: 0.6707 - val_accuracy: 0.6023\n",
            "Epoch 5/10\n",
            "1281/1281 [==============================] - 5s 4ms/step - loss: 0.6680 - accuracy: 0.6122 - val_loss: 0.6676 - val_accuracy: 0.6090\n",
            "Epoch 6/10\n",
            "1281/1281 [==============================] - 6s 5ms/step - loss: 0.6674 - accuracy: 0.6121 - val_loss: 0.6697 - val_accuracy: 0.6168\n",
            "Epoch 7/10\n",
            "1281/1281 [==============================] - 5s 4ms/step - loss: 0.6664 - accuracy: 0.6134 - val_loss: 0.6659 - val_accuracy: 0.6131\n",
            "Epoch 8/10\n",
            "1281/1281 [==============================] - 6s 5ms/step - loss: 0.6662 - accuracy: 0.6127 - val_loss: 0.6656 - val_accuracy: 0.6163\n",
            "Epoch 9/10\n",
            "1281/1281 [==============================] - 6s 4ms/step - loss: 0.6656 - accuracy: 0.6147 - val_loss: 0.6671 - val_accuracy: 0.6188\n",
            "Epoch 10/10\n",
            "1281/1281 [==============================] - 5s 4ms/step - loss: 0.6653 - accuracy: 0.6139 - val_loss: 0.6648 - val_accuracy: 0.6145\n",
            "CPU times: user 1min, sys: 4.36 s, total: 1min 4s\n",
            "Wall time: 56.3 s\n"
          ]
        }
      ]
    },
    {
      "cell_type": "code",
      "source": [
        "Y1_Pred_prob = model2.predict(X1_Test_scaled)\n",
        "\n",
        "Y1_Pred_classes = (Y1_Pred_prob > 0.5).astype(int)\n",
        "\n",
        "Accuracy = accuracy_score(Y1_Test, Y1_Pred_classes)\n",
        "Confusion_Matrix = confusion_matrix(Y1_Test, Y1_Pred_classes)\n",
        "Classification_Report = classification_report(Y1_Test, Y1_Pred_classes, zero_division=1)\n",
        "\n",
        "print(f'Accuracy: {Accuracy}')\n",
        "print('Confusion Matrix:')\n",
        "print(Confusion_Matrix)\n",
        "print('Classification Report:')\n",
        "print(Classification_Report)"
      ],
      "metadata": {
        "colab": {
          "base_uri": "https://localhost:8080/"
        },
        "id": "2jwPtexRQfFw",
        "outputId": "e11a539c-a96b-4e17-b947-5456368baf20"
      },
      "execution_count": null,
      "outputs": [
        {
          "output_type": "stream",
          "name": "stdout",
          "text": [
            "801/801 [==============================] - 2s 2ms/step\n",
            "Accuracy: 0.613687826969626\n",
            "Confusion Matrix:\n",
            "[[10691  3340]\n",
            " [ 6555  5028]]\n",
            "Classification Report:\n",
            "              precision    recall  f1-score   support\n",
            "\n",
            "           0       0.62      0.76      0.68     14031\n",
            "           1       0.60      0.43      0.50     11583\n",
            "\n",
            "    accuracy                           0.61     25614\n",
            "   macro avg       0.61      0.60      0.59     25614\n",
            "weighted avg       0.61      0.61      0.60     25614\n",
            "\n"
          ]
        }
      ]
    },
    {
      "cell_type": "code",
      "source": [
        "plt.plot(nn2.history['accuracy'], label='Training Accuracy')\n",
        "plt.plot(nn2.history['val_accuracy'], label='Validation Accuracy')\n",
        "plt.xlabel('Epoch')\n",
        "plt.ylabel('Accuracy')\n",
        "plt.legend()\n",
        "plt.show()"
      ],
      "metadata": {
        "colab": {
          "base_uri": "https://localhost:8080/",
          "height": 449
        },
        "id": "YVt8GgITILhO",
        "outputId": "5e65bea4-3733-405b-e5ed-014ce4329420"
      },
      "execution_count": null,
      "outputs": [
        {
          "output_type": "display_data",
          "data": {
            "text/plain": [
              "<Figure size 640x480 with 1 Axes>"
            ],
            "image/png": "[encoded data removed]"
          },
          "metadata": {}
        }
      ]
    },
    {
      "cell_type": "code",
      "source": [
        "# NN WITH DROPOUT REGULARIZATION"
      ],
      "metadata": {
        "id": "FCtAEl8fJtAw"
      },
      "execution_count": null,
      "outputs": []
    },
    {
      "cell_type": "code",
      "source": [
        "model3 = Sequential()\n",
        "model3.add(Dense(64, input_dim=X1_Train_scaled.shape[1], activation='relu'))\n",
        "model3.add(Dropout(0.2))\n",
        "\n",
        "model3.add(Dense(32, activation='relu'))\n",
        "model3.add(Dropout(0.2))\n",
        "\n",
        "model3.add(Dense(32, activation='relu'))\n",
        "model3.add(Dropout(0.2))\n",
        "\n",
        "model3.add(Dense(1, activation='sigmoid'))\n"
      ],
      "metadata": {
        "id": "dks2katzJvix"
      },
      "execution_count": null,
      "outputs": []
    },
    {
      "cell_type": "code",
      "source": [
        "model3.compile(loss='binary_crossentropy', optimizer='adam', metrics=['accuracy'])"
      ],
      "metadata": {
        "id": "SNA9MBlqKVZn"
      },
      "execution_count": null,
      "outputs": []
    },
    {
      "cell_type": "code",
      "source": [
        "%%time\n",
        "nn3 = model3.fit(X1_Train_scaled, Y1_Train, epochs=10, batch_size=64, validation_split=0.2)"
      ],
      "metadata": {
        "colab": {
          "base_uri": "https://localhost:8080/"
        },
        "id": "kSYvSzzeKYeO",
        "outputId": "a738f93b-939e-48ab-e35a-8eaf3af9f167"
      },
      "execution_count": null,
      "outputs": [
        {
          "output_type": "stream",
          "name": "stdout",
          "text": [
            "Epoch 1/10\n",
            "1281/1281 [==============================] - 8s 4ms/step - loss: 0.6653 - accuracy: 0.5997 - val_loss: 0.6556 - val_accuracy: 0.6168\n",
            "Epoch 2/10\n",
            "1281/1281 [==============================] - 7s 5ms/step - loss: 0.6567 - accuracy: 0.6130 - val_loss: 0.6528 - val_accuracy: 0.6179\n",
            "Epoch 3/10\n",
            "1281/1281 [==============================] - 6s 4ms/step - loss: 0.6552 - accuracy: 0.6151 - val_loss: 0.6531 - val_accuracy: 0.6177\n",
            "Epoch 4/10\n",
            "1281/1281 [==============================] - 7s 5ms/step - loss: 0.6549 - accuracy: 0.6160 - val_loss: 0.6528 - val_accuracy: 0.6173\n",
            "Epoch 5/10\n",
            "1281/1281 [==============================] - 6s 4ms/step - loss: 0.6533 - accuracy: 0.6167 - val_loss: 0.6521 - val_accuracy: 0.6183\n",
            "Epoch 6/10\n",
            "1281/1281 [==============================] - 7s 5ms/step - loss: 0.6526 - accuracy: 0.6166 - val_loss: 0.6511 - val_accuracy: 0.6195\n",
            "Epoch 7/10\n",
            "1281/1281 [==============================] - 6s 5ms/step - loss: 0.6527 - accuracy: 0.6173 - val_loss: 0.6521 - val_accuracy: 0.6178\n",
            "Epoch 8/10\n",
            "1281/1281 [==============================] - 6s 5ms/step - loss: 0.6523 - accuracy: 0.6178 - val_loss: 0.6520 - val_accuracy: 0.6185\n",
            "Epoch 9/10\n",
            "1281/1281 [==============================] - 6s 5ms/step - loss: 0.6522 - accuracy: 0.6181 - val_loss: 0.6505 - val_accuracy: 0.6186\n",
            "Epoch 10/10\n",
            "1281/1281 [==============================] - 6s 4ms/step - loss: 0.6519 - accuracy: 0.6180 - val_loss: 0.6516 - val_accuracy: 0.6197\n",
            "CPU times: user 1min 6s, sys: 4.54 s, total: 1min 10s\n",
            "Wall time: 1min 3s\n"
          ]
        }
      ]
    },
    {
      "cell_type": "code",
      "source": [
        "Y1_Pred_prob = model3.predict(X1_Test_scaled)\n",
        "\n",
        "Y1_Pred_classes = (Y1_Pred_prob > 0.5).astype(int)\n",
        "\n",
        "Accuracy = accuracy_score(Y1_Test, Y1_Pred_classes)\n",
        "Confusion_Matrix = confusion_matrix(Y1_Test, Y1_Pred_classes)\n",
        "Classification_Report = classification_report(Y1_Test, Y1_Pred_classes, zero_division=1)\n",
        "\n",
        "print(f'Accuracy: {Accuracy}')\n",
        "print('Confusion Matrix:')\n",
        "print(Confusion_Matrix)\n",
        "print('Classification Report:')\n",
        "print(Classification_Report)"
      ],
      "metadata": {
        "colab": {
          "base_uri": "https://localhost:8080/"
        },
        "id": "GBzc99eqQlAn",
        "outputId": "ec2d2e47-2120-4de4-a3d2-334986e84ada"
      },
      "execution_count": null,
      "outputs": [
        {
          "output_type": "stream",
          "name": "stdout",
          "text": [
            "801/801 [==============================] - 2s 2ms/step\n",
            "Accuracy: 0.6208323573045991\n",
            "Confusion Matrix:\n",
            "[[11878  2090]\n",
            " [ 7622  4024]]\n",
            "Classification Report:\n",
            "              precision    recall  f1-score   support\n",
            "\n",
            "           0       0.61      0.85      0.71     13968\n",
            "           1       0.66      0.35      0.45     11646\n",
            "\n",
            "    accuracy                           0.62     25614\n",
            "   macro avg       0.63      0.60      0.58     25614\n",
            "weighted avg       0.63      0.62      0.59     25614\n",
            "\n"
          ]
        }
      ]
    },
    {
      "cell_type": "code",
      "source": [
        "plt.plot(nn3.history['accuracy'], label='Training Accuracy')\n",
        "plt.plot(nn3.history['val_accuracy'], label='Validation Accuracy')\n",
        "plt.xlabel('Epoch')\n",
        "plt.ylabel('Accuracy')\n",
        "plt.legend()\n",
        "plt.show()"
      ],
      "metadata": {
        "colab": {
          "base_uri": "https://localhost:8080/",
          "height": 503
        },
        "id": "i-BIpOAhKkTt",
        "outputId": "4f0b6695-2e3e-486f-8359-a31e796ad4d9"
      },
      "execution_count": null,
      "outputs": [
        {
          "output_type": "display_data",
          "data": {
            "text/plain": [
              "<Figure size 800x550 with 1 Axes>"
            ],
            "image/png": "[encoded data removed]"
          },
          "metadata": {}
        }
      ]
    }
  ]
}